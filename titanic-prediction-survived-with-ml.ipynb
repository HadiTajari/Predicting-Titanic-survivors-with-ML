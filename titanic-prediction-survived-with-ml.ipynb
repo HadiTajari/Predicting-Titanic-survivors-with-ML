{
 "cells": [
  {
   "cell_type": "markdown",
   "id": "561e586b",
   "metadata": {
    "papermill": {
     "duration": 0.015705,
     "end_time": "2023-03-16T18:41:35.853271",
     "exception": false,
     "start_time": "2023-03-16T18:41:35.837566",
     "status": "completed"
    },
    "tags": []
   },
   "source": [
    "## Titanic"
   ]
  },
  {
   "cell_type": "markdown",
   "id": "ab5cf480",
   "metadata": {
    "papermill": {
     "duration": 0.013498,
     "end_time": "2023-03-16T18:41:35.880709",
     "exception": false,
     "start_time": "2023-03-16T18:41:35.867211",
     "status": "completed"
    },
    "tags": []
   },
   "source": [
    "### pre requierment"
   ]
  },
  {
   "cell_type": "markdown",
   "id": "1324e2b3",
   "metadata": {
    "papermill": {
     "duration": 0.013758,
     "end_time": "2023-03-16T18:41:35.908257",
     "exception": false,
     "start_time": "2023-03-16T18:41:35.894499",
     "status": "completed"
    },
    "tags": []
   },
   "source": [
    "#conda install catboost"
   ]
  },
  {
   "cell_type": "code",
   "execution_count": 1,
   "id": "d0d221ff",
   "metadata": {
    "_cell_guid": "b1076dfc-b9ad-4769-8c92-a6c4dae69d19",
    "_uuid": "8f2839f25d086af736a60e9eeb907d3b93b6e0e5",
    "execution": {
     "iopub.execute_input": "2023-03-16T18:41:35.940472Z",
     "iopub.status.busy": "2023-03-16T18:41:35.939437Z",
     "iopub.status.idle": "2023-03-16T18:41:43.100041Z",
     "shell.execute_reply": "2023-03-16T18:41:43.098452Z"
    },
    "papermill": {
     "duration": 7.179658,
     "end_time": "2023-03-16T18:41:43.103183",
     "exception": false,
     "start_time": "2023-03-16T18:41:35.923525",
     "status": "completed"
    },
    "tags": []
   },
   "outputs": [
    {
     "data": {
      "text/html": [
       "<style type='text/css'>\n",
       ".datatable table.frame { margin-bottom: 0; }\n",
       ".datatable table.frame thead { border-bottom: none; }\n",
       ".datatable table.frame tr.coltypes td {  color: #FFFFFF;  line-height: 6px;  padding: 0 0.5em;}\n",
       ".datatable .bool    { background: #DDDD99; }\n",
       ".datatable .object  { background: #565656; }\n",
       ".datatable .int     { background: #5D9E5D; }\n",
       ".datatable .float   { background: #4040CC; }\n",
       ".datatable .str     { background: #CC4040; }\n",
       ".datatable .time    { background: #40CC40; }\n",
       ".datatable .row_index {  background: var(--jp-border-color3);  border-right: 1px solid var(--jp-border-color0);  color: var(--jp-ui-font-color3);  font-size: 9px;}\n",
       ".datatable .frame tbody td { text-align: left; }\n",
       ".datatable .frame tr.coltypes .row_index {  background: var(--jp-border-color0);}\n",
       ".datatable th:nth-child(2) { padding-left: 12px; }\n",
       ".datatable .hellipsis {  color: var(--jp-cell-editor-border-color);}\n",
       ".datatable .vellipsis {  background: var(--jp-layout-color0);  color: var(--jp-cell-editor-border-color);}\n",
       ".datatable .na {  color: var(--jp-cell-editor-border-color);  font-size: 80%;}\n",
       ".datatable .sp {  opacity: 0.25;}\n",
       ".datatable .footer { font-size: 9px; }\n",
       ".datatable .frame_dimensions {  background: var(--jp-border-color3);  border-top: 1px solid var(--jp-border-color0);  color: var(--jp-ui-font-color3);  display: inline-block;  opacity: 0.6;  padding: 1px 10px 1px 5px;}\n",
       "</style>\n"
      ],
      "text/plain": [
       "<IPython.core.display.HTML object>"
      ]
     },
     "metadata": {},
     "output_type": "display_data"
    },
    {
     "name": "stdout",
     "output_type": "stream",
     "text": [
      "/kaggle/input/titanic/train.csv\n",
      "/kaggle/input/titanic/test.csv\n",
      "/kaggle/input/titanic/gender_submission.csv\n"
     ]
    }
   ],
   "source": [
    "# This Python 3 environment comes with many helpful analytics libraries installed\n",
    "# It is defined by the kaggle/python Docker image: https://github.com/kaggle/docker-python\n",
    "# For example, here's several helpful packages to load\n",
    "\n",
    "import numpy as np # linear algebra\n",
    "import pandas as pd # data processing, CSV file I/O (e.g. pd.read_csv)\n",
    "\n",
    "#Data Visualization\n",
    "import matplotlib.pyplot as plt\n",
    "import seaborn as sns\n",
    "\n",
    "# EDA Automation\n",
    "from pandas_profiling import ProfileReport\n",
    "\n",
    "#Preprocess, split and metrics\n",
    "from sklearn.preprocessing import LabelEncoder, OneHotEncoder , StandardScaler , Normalizer\n",
    "from sklearn.model_selection import cross_validate, train_test_split , StratifiedKFold\n",
    "from sklearn.metrics import accuracy_score, f1_score ,roc_auc_score ,roc_curve\n",
    "\n",
    "#Modeling\n",
    "from sklearn.neighbors import KNeighborsClassifier\n",
    "from sklearn.linear_model import LogisticRegression\n",
    "from sklearn.ensemble import RandomForestClassifier , GradientBoostingClassifier, AdaBoostClassifier\n",
    "#XGBoost\n",
    "from xgboost import XGBClassifier\n",
    "#CATBoost\n",
    "from catboost import CatBoostClassifier\n",
    "#LightGBM\n",
    "from lightgbm  import LGBMClassifier\n",
    "# Input data files are available in the read-only \"../input/\" directory\n",
    "# For example, running this (by clicking run or pressing Shift+Enter) will list all files under the input directory\n",
    "\n",
    "import os\n",
    "for dirname, _, filenames in os.walk('/kaggle/input'):\n",
    "    for filename in filenames:\n",
    "        print(os.path.join(dirname, filename))\n",
    "\n",
    "# You can write up to 20GB to the current directory (/kaggle/working/) that gets preserved as output when you create a version using \"Save & Run All\" \n",
    "# You can also write temporary files to /kaggle/temp/, but they won't be saved outside of the current session\n",
    "SEED = 123\n",
    "import warnings\n",
    "warnings.filterwarnings(\"ignore\")\n",
    "from IPython.display import clear_output"
   ]
  },
  {
   "cell_type": "markdown",
   "id": "406c9c50",
   "metadata": {
    "papermill": {
     "duration": 0.013663,
     "end_time": "2023-03-16T18:41:43.131139",
     "exception": false,
     "start_time": "2023-03-16T18:41:43.117476",
     "status": "completed"
    },
    "tags": []
   },
   "source": [
    "#### importing data"
   ]
  },
  {
   "cell_type": "code",
   "execution_count": 2,
   "id": "528e6e0f",
   "metadata": {
    "execution": {
     "iopub.execute_input": "2023-03-16T18:41:43.162608Z",
     "iopub.status.busy": "2023-03-16T18:41:43.161898Z",
     "iopub.status.idle": "2023-03-16T18:41:43.211715Z",
     "shell.execute_reply": "2023-03-16T18:41:43.210336Z"
    },
    "papermill": {
     "duration": 0.068384,
     "end_time": "2023-03-16T18:41:43.214517",
     "exception": false,
     "start_time": "2023-03-16T18:41:43.146133",
     "status": "completed"
    },
    "tags": []
   },
   "outputs": [
    {
     "data": {
      "text/html": [
       "<div>\n",
       "<style scoped>\n",
       "    .dataframe tbody tr th:only-of-type {\n",
       "        vertical-align: middle;\n",
       "    }\n",
       "\n",
       "    .dataframe tbody tr th {\n",
       "        vertical-align: top;\n",
       "    }\n",
       "\n",
       "    .dataframe thead th {\n",
       "        text-align: right;\n",
       "    }\n",
       "</style>\n",
       "<table border=\"1\" class=\"dataframe\">\n",
       "  <thead>\n",
       "    <tr style=\"text-align: right;\">\n",
       "      <th></th>\n",
       "      <th>PassengerId</th>\n",
       "      <th>Survived</th>\n",
       "      <th>Pclass</th>\n",
       "      <th>Name</th>\n",
       "      <th>Sex</th>\n",
       "      <th>Age</th>\n",
       "      <th>SibSp</th>\n",
       "      <th>Parch</th>\n",
       "      <th>Ticket</th>\n",
       "      <th>Fare</th>\n",
       "      <th>Cabin</th>\n",
       "      <th>Embarked</th>\n",
       "    </tr>\n",
       "  </thead>\n",
       "  <tbody>\n",
       "    <tr>\n",
       "      <th>0</th>\n",
       "      <td>1</td>\n",
       "      <td>0</td>\n",
       "      <td>3</td>\n",
       "      <td>Braund, Mr. Owen Harris</td>\n",
       "      <td>male</td>\n",
       "      <td>22.0</td>\n",
       "      <td>1</td>\n",
       "      <td>0</td>\n",
       "      <td>A/5 21171</td>\n",
       "      <td>7.2500</td>\n",
       "      <td>NaN</td>\n",
       "      <td>S</td>\n",
       "    </tr>\n",
       "    <tr>\n",
       "      <th>1</th>\n",
       "      <td>2</td>\n",
       "      <td>1</td>\n",
       "      <td>1</td>\n",
       "      <td>Cumings, Mrs. John Bradley (Florence Briggs Th...</td>\n",
       "      <td>female</td>\n",
       "      <td>38.0</td>\n",
       "      <td>1</td>\n",
       "      <td>0</td>\n",
       "      <td>PC 17599</td>\n",
       "      <td>71.2833</td>\n",
       "      <td>C85</td>\n",
       "      <td>C</td>\n",
       "    </tr>\n",
       "    <tr>\n",
       "      <th>2</th>\n",
       "      <td>3</td>\n",
       "      <td>1</td>\n",
       "      <td>3</td>\n",
       "      <td>Heikkinen, Miss. Laina</td>\n",
       "      <td>female</td>\n",
       "      <td>26.0</td>\n",
       "      <td>0</td>\n",
       "      <td>0</td>\n",
       "      <td>STON/O2. 3101282</td>\n",
       "      <td>7.9250</td>\n",
       "      <td>NaN</td>\n",
       "      <td>S</td>\n",
       "    </tr>\n",
       "    <tr>\n",
       "      <th>3</th>\n",
       "      <td>4</td>\n",
       "      <td>1</td>\n",
       "      <td>1</td>\n",
       "      <td>Futrelle, Mrs. Jacques Heath (Lily May Peel)</td>\n",
       "      <td>female</td>\n",
       "      <td>35.0</td>\n",
       "      <td>1</td>\n",
       "      <td>0</td>\n",
       "      <td>113803</td>\n",
       "      <td>53.1000</td>\n",
       "      <td>C123</td>\n",
       "      <td>S</td>\n",
       "    </tr>\n",
       "    <tr>\n",
       "      <th>4</th>\n",
       "      <td>5</td>\n",
       "      <td>0</td>\n",
       "      <td>3</td>\n",
       "      <td>Allen, Mr. William Henry</td>\n",
       "      <td>male</td>\n",
       "      <td>35.0</td>\n",
       "      <td>0</td>\n",
       "      <td>0</td>\n",
       "      <td>373450</td>\n",
       "      <td>8.0500</td>\n",
       "      <td>NaN</td>\n",
       "      <td>S</td>\n",
       "    </tr>\n",
       "  </tbody>\n",
       "</table>\n",
       "</div>"
      ],
      "text/plain": [
       "   PassengerId  Survived  Pclass  \\\n",
       "0            1         0       3   \n",
       "1            2         1       1   \n",
       "2            3         1       3   \n",
       "3            4         1       1   \n",
       "4            5         0       3   \n",
       "\n",
       "                                                Name     Sex   Age  SibSp  \\\n",
       "0                            Braund, Mr. Owen Harris    male  22.0      1   \n",
       "1  Cumings, Mrs. John Bradley (Florence Briggs Th...  female  38.0      1   \n",
       "2                             Heikkinen, Miss. Laina  female  26.0      0   \n",
       "3       Futrelle, Mrs. Jacques Heath (Lily May Peel)  female  35.0      1   \n",
       "4                           Allen, Mr. William Henry    male  35.0      0   \n",
       "\n",
       "   Parch            Ticket     Fare Cabin Embarked  \n",
       "0      0         A/5 21171   7.2500   NaN        S  \n",
       "1      0          PC 17599  71.2833   C85        C  \n",
       "2      0  STON/O2. 3101282   7.9250   NaN        S  \n",
       "3      0            113803  53.1000  C123        S  \n",
       "4      0            373450   8.0500   NaN        S  "
      ]
     },
     "execution_count": 2,
     "metadata": {},
     "output_type": "execute_result"
    }
   ],
   "source": [
    "df_train = pd.read_csv(\"/kaggle/input/titanic/train.csv\")\n",
    "df_train.head()"
   ]
  },
  {
   "cell_type": "code",
   "execution_count": 3,
   "id": "aa06151d",
   "metadata": {
    "execution": {
     "iopub.execute_input": "2023-03-16T18:41:43.246451Z",
     "iopub.status.busy": "2023-03-16T18:41:43.245194Z",
     "iopub.status.idle": "2023-03-16T18:41:43.271266Z",
     "shell.execute_reply": "2023-03-16T18:41:43.269887Z"
    },
    "papermill": {
     "duration": 0.044429,
     "end_time": "2023-03-16T18:41:43.273884",
     "exception": false,
     "start_time": "2023-03-16T18:41:43.229455",
     "status": "completed"
    },
    "tags": []
   },
   "outputs": [
    {
     "data": {
      "text/html": [
       "<div>\n",
       "<style scoped>\n",
       "    .dataframe tbody tr th:only-of-type {\n",
       "        vertical-align: middle;\n",
       "    }\n",
       "\n",
       "    .dataframe tbody tr th {\n",
       "        vertical-align: top;\n",
       "    }\n",
       "\n",
       "    .dataframe thead th {\n",
       "        text-align: right;\n",
       "    }\n",
       "</style>\n",
       "<table border=\"1\" class=\"dataframe\">\n",
       "  <thead>\n",
       "    <tr style=\"text-align: right;\">\n",
       "      <th></th>\n",
       "      <th>PassengerId</th>\n",
       "      <th>Pclass</th>\n",
       "      <th>Name</th>\n",
       "      <th>Sex</th>\n",
       "      <th>Age</th>\n",
       "      <th>SibSp</th>\n",
       "      <th>Parch</th>\n",
       "      <th>Ticket</th>\n",
       "      <th>Fare</th>\n",
       "      <th>Cabin</th>\n",
       "      <th>Embarked</th>\n",
       "    </tr>\n",
       "  </thead>\n",
       "  <tbody>\n",
       "    <tr>\n",
       "      <th>0</th>\n",
       "      <td>892</td>\n",
       "      <td>3</td>\n",
       "      <td>Kelly, Mr. James</td>\n",
       "      <td>male</td>\n",
       "      <td>34.5</td>\n",
       "      <td>0</td>\n",
       "      <td>0</td>\n",
       "      <td>330911</td>\n",
       "      <td>7.8292</td>\n",
       "      <td>NaN</td>\n",
       "      <td>Q</td>\n",
       "    </tr>\n",
       "    <tr>\n",
       "      <th>1</th>\n",
       "      <td>893</td>\n",
       "      <td>3</td>\n",
       "      <td>Wilkes, Mrs. James (Ellen Needs)</td>\n",
       "      <td>female</td>\n",
       "      <td>47.0</td>\n",
       "      <td>1</td>\n",
       "      <td>0</td>\n",
       "      <td>363272</td>\n",
       "      <td>7.0000</td>\n",
       "      <td>NaN</td>\n",
       "      <td>S</td>\n",
       "    </tr>\n",
       "    <tr>\n",
       "      <th>2</th>\n",
       "      <td>894</td>\n",
       "      <td>2</td>\n",
       "      <td>Myles, Mr. Thomas Francis</td>\n",
       "      <td>male</td>\n",
       "      <td>62.0</td>\n",
       "      <td>0</td>\n",
       "      <td>0</td>\n",
       "      <td>240276</td>\n",
       "      <td>9.6875</td>\n",
       "      <td>NaN</td>\n",
       "      <td>Q</td>\n",
       "    </tr>\n",
       "    <tr>\n",
       "      <th>3</th>\n",
       "      <td>895</td>\n",
       "      <td>3</td>\n",
       "      <td>Wirz, Mr. Albert</td>\n",
       "      <td>male</td>\n",
       "      <td>27.0</td>\n",
       "      <td>0</td>\n",
       "      <td>0</td>\n",
       "      <td>315154</td>\n",
       "      <td>8.6625</td>\n",
       "      <td>NaN</td>\n",
       "      <td>S</td>\n",
       "    </tr>\n",
       "    <tr>\n",
       "      <th>4</th>\n",
       "      <td>896</td>\n",
       "      <td>3</td>\n",
       "      <td>Hirvonen, Mrs. Alexander (Helga E Lindqvist)</td>\n",
       "      <td>female</td>\n",
       "      <td>22.0</td>\n",
       "      <td>1</td>\n",
       "      <td>1</td>\n",
       "      <td>3101298</td>\n",
       "      <td>12.2875</td>\n",
       "      <td>NaN</td>\n",
       "      <td>S</td>\n",
       "    </tr>\n",
       "  </tbody>\n",
       "</table>\n",
       "</div>"
      ],
      "text/plain": [
       "   PassengerId  Pclass                                          Name     Sex  \\\n",
       "0          892       3                              Kelly, Mr. James    male   \n",
       "1          893       3              Wilkes, Mrs. James (Ellen Needs)  female   \n",
       "2          894       2                     Myles, Mr. Thomas Francis    male   \n",
       "3          895       3                              Wirz, Mr. Albert    male   \n",
       "4          896       3  Hirvonen, Mrs. Alexander (Helga E Lindqvist)  female   \n",
       "\n",
       "    Age  SibSp  Parch   Ticket     Fare Cabin Embarked  \n",
       "0  34.5      0      0   330911   7.8292   NaN        Q  \n",
       "1  47.0      1      0   363272   7.0000   NaN        S  \n",
       "2  62.0      0      0   240276   9.6875   NaN        Q  \n",
       "3  27.0      0      0   315154   8.6625   NaN        S  \n",
       "4  22.0      1      1  3101298  12.2875   NaN        S  "
      ]
     },
     "execution_count": 3,
     "metadata": {},
     "output_type": "execute_result"
    }
   ],
   "source": [
    "df_test = pd.read_csv(\"/kaggle/input/titanic/test.csv\")\n",
    "df_test.head()"
   ]
  },
  {
   "cell_type": "code",
   "execution_count": 4,
   "id": "6332bad6",
   "metadata": {
    "execution": {
     "iopub.execute_input": "2023-03-16T18:41:43.306522Z",
     "iopub.status.busy": "2023-03-16T18:41:43.306089Z",
     "iopub.status.idle": "2023-03-16T18:41:43.314086Z",
     "shell.execute_reply": "2023-03-16T18:41:43.312841Z"
    },
    "papermill": {
     "duration": 0.027435,
     "end_time": "2023-03-16T18:41:43.316859",
     "exception": false,
     "start_time": "2023-03-16T18:41:43.289424",
     "status": "completed"
    },
    "tags": []
   },
   "outputs": [
    {
     "data": {
      "text/plain": [
       "((891, 12), (418, 11))"
      ]
     },
     "execution_count": 4,
     "metadata": {},
     "output_type": "execute_result"
    }
   ],
   "source": [
    "df_train.shape , df_test.shape"
   ]
  },
  {
   "cell_type": "code",
   "execution_count": 5,
   "id": "a8f7aafb",
   "metadata": {
    "execution": {
     "iopub.execute_input": "2023-03-16T18:41:43.349971Z",
     "iopub.status.busy": "2023-03-16T18:41:43.348430Z",
     "iopub.status.idle": "2023-03-16T18:41:43.376521Z",
     "shell.execute_reply": "2023-03-16T18:41:43.375055Z"
    },
    "papermill": {
     "duration": 0.047424,
     "end_time": "2023-03-16T18:41:43.379404",
     "exception": false,
     "start_time": "2023-03-16T18:41:43.331980",
     "status": "completed"
    },
    "tags": []
   },
   "outputs": [
    {
     "data": {
      "text/html": [
       "<div>\n",
       "<style scoped>\n",
       "    .dataframe tbody tr th:only-of-type {\n",
       "        vertical-align: middle;\n",
       "    }\n",
       "\n",
       "    .dataframe tbody tr th {\n",
       "        vertical-align: top;\n",
       "    }\n",
       "\n",
       "    .dataframe thead th {\n",
       "        text-align: right;\n",
       "    }\n",
       "</style>\n",
       "<table border=\"1\" class=\"dataframe\">\n",
       "  <thead>\n",
       "    <tr style=\"text-align: right;\">\n",
       "      <th></th>\n",
       "      <th>PassengerId</th>\n",
       "      <th>Survived</th>\n",
       "      <th>Pclass</th>\n",
       "      <th>Name</th>\n",
       "      <th>Sex</th>\n",
       "      <th>Age</th>\n",
       "      <th>SibSp</th>\n",
       "      <th>Parch</th>\n",
       "      <th>Ticket</th>\n",
       "      <th>Fare</th>\n",
       "      <th>Cabin</th>\n",
       "      <th>Embarked</th>\n",
       "    </tr>\n",
       "  </thead>\n",
       "  <tbody>\n",
       "    <tr>\n",
       "      <th>413</th>\n",
       "      <td>1305</td>\n",
       "      <td>NaN</td>\n",
       "      <td>3</td>\n",
       "      <td>Spector, Mr. Woolf</td>\n",
       "      <td>male</td>\n",
       "      <td>NaN</td>\n",
       "      <td>0</td>\n",
       "      <td>0</td>\n",
       "      <td>A.5. 3236</td>\n",
       "      <td>8.0500</td>\n",
       "      <td>NaN</td>\n",
       "      <td>S</td>\n",
       "    </tr>\n",
       "    <tr>\n",
       "      <th>414</th>\n",
       "      <td>1306</td>\n",
       "      <td>NaN</td>\n",
       "      <td>1</td>\n",
       "      <td>Oliva y Ocana, Dona. Fermina</td>\n",
       "      <td>female</td>\n",
       "      <td>39.0</td>\n",
       "      <td>0</td>\n",
       "      <td>0</td>\n",
       "      <td>PC 17758</td>\n",
       "      <td>108.9000</td>\n",
       "      <td>C105</td>\n",
       "      <td>C</td>\n",
       "    </tr>\n",
       "    <tr>\n",
       "      <th>415</th>\n",
       "      <td>1307</td>\n",
       "      <td>NaN</td>\n",
       "      <td>3</td>\n",
       "      <td>Saether, Mr. Simon Sivertsen</td>\n",
       "      <td>male</td>\n",
       "      <td>38.5</td>\n",
       "      <td>0</td>\n",
       "      <td>0</td>\n",
       "      <td>SOTON/O.Q. 3101262</td>\n",
       "      <td>7.2500</td>\n",
       "      <td>NaN</td>\n",
       "      <td>S</td>\n",
       "    </tr>\n",
       "    <tr>\n",
       "      <th>416</th>\n",
       "      <td>1308</td>\n",
       "      <td>NaN</td>\n",
       "      <td>3</td>\n",
       "      <td>Ware, Mr. Frederick</td>\n",
       "      <td>male</td>\n",
       "      <td>NaN</td>\n",
       "      <td>0</td>\n",
       "      <td>0</td>\n",
       "      <td>359309</td>\n",
       "      <td>8.0500</td>\n",
       "      <td>NaN</td>\n",
       "      <td>S</td>\n",
       "    </tr>\n",
       "    <tr>\n",
       "      <th>417</th>\n",
       "      <td>1309</td>\n",
       "      <td>NaN</td>\n",
       "      <td>3</td>\n",
       "      <td>Peter, Master. Michael J</td>\n",
       "      <td>male</td>\n",
       "      <td>NaN</td>\n",
       "      <td>1</td>\n",
       "      <td>1</td>\n",
       "      <td>2668</td>\n",
       "      <td>22.3583</td>\n",
       "      <td>NaN</td>\n",
       "      <td>C</td>\n",
       "    </tr>\n",
       "  </tbody>\n",
       "</table>\n",
       "</div>"
      ],
      "text/plain": [
       "     PassengerId  Survived  Pclass                          Name     Sex  \\\n",
       "413         1305       NaN       3            Spector, Mr. Woolf    male   \n",
       "414         1306       NaN       1  Oliva y Ocana, Dona. Fermina  female   \n",
       "415         1307       NaN       3  Saether, Mr. Simon Sivertsen    male   \n",
       "416         1308       NaN       3           Ware, Mr. Frederick    male   \n",
       "417         1309       NaN       3      Peter, Master. Michael J    male   \n",
       "\n",
       "      Age  SibSp  Parch              Ticket      Fare Cabin Embarked  \n",
       "413   NaN      0      0           A.5. 3236    8.0500   NaN        S  \n",
       "414  39.0      0      0            PC 17758  108.9000  C105        C  \n",
       "415  38.5      0      0  SOTON/O.Q. 3101262    7.2500   NaN        S  \n",
       "416   NaN      0      0              359309    8.0500   NaN        S  \n",
       "417   NaN      1      1                2668   22.3583   NaN        C  "
      ]
     },
     "execution_count": 5,
     "metadata": {},
     "output_type": "execute_result"
    }
   ],
   "source": [
    "df = pd.concat([df_train, df_test], axis=0)\n",
    "df.tail()"
   ]
  },
  {
   "cell_type": "code",
   "execution_count": 6,
   "id": "9a356a76",
   "metadata": {
    "execution": {
     "iopub.execute_input": "2023-03-16T18:41:43.413196Z",
     "iopub.status.busy": "2023-03-16T18:41:43.411964Z",
     "iopub.status.idle": "2023-03-16T18:41:43.420719Z",
     "shell.execute_reply": "2023-03-16T18:41:43.419528Z"
    },
    "papermill": {
     "duration": 0.028042,
     "end_time": "2023-03-16T18:41:43.423209",
     "exception": false,
     "start_time": "2023-03-16T18:41:43.395167",
     "status": "completed"
    },
    "tags": []
   },
   "outputs": [
    {
     "data": {
      "text/plain": [
       "(1309, 12)"
      ]
     },
     "execution_count": 6,
     "metadata": {},
     "output_type": "execute_result"
    }
   ],
   "source": [
    "df.shape"
   ]
  },
  {
   "cell_type": "markdown",
   "id": "4c4b5cc8",
   "metadata": {
    "execution": {
     "iopub.execute_input": "2023-03-16T16:20:14.729975Z",
     "iopub.status.busy": "2023-03-16T16:20:14.728417Z",
     "iopub.status.idle": "2023-03-16T16:20:14.735355Z",
     "shell.execute_reply": "2023-03-16T16:20:14.733910Z",
     "shell.execute_reply.started": "2023-03-16T16:20:14.729907Z"
    },
    "papermill": {
     "duration": 0.014793,
     "end_time": "2023-03-16T18:41:43.453078",
     "exception": false,
     "start_time": "2023-03-16T18:41:43.438285",
     "status": "completed"
    },
    "tags": []
   },
   "source": [
    "### descriptive data"
   ]
  },
  {
   "cell_type": "code",
   "execution_count": 7,
   "id": "0527a1ce",
   "metadata": {
    "execution": {
     "iopub.execute_input": "2023-03-16T18:41:43.486723Z",
     "iopub.status.busy": "2023-03-16T18:41:43.485359Z",
     "iopub.status.idle": "2023-03-16T18:41:43.530585Z",
     "shell.execute_reply": "2023-03-16T18:41:43.529131Z"
    },
    "papermill": {
     "duration": 0.065235,
     "end_time": "2023-03-16T18:41:43.533425",
     "exception": false,
     "start_time": "2023-03-16T18:41:43.468190",
     "status": "completed"
    },
    "scrolled": true,
    "tags": []
   },
   "outputs": [
    {
     "data": {
      "text/html": [
       "<div>\n",
       "<style scoped>\n",
       "    .dataframe tbody tr th:only-of-type {\n",
       "        vertical-align: middle;\n",
       "    }\n",
       "\n",
       "    .dataframe tbody tr th {\n",
       "        vertical-align: top;\n",
       "    }\n",
       "\n",
       "    .dataframe thead th {\n",
       "        text-align: right;\n",
       "    }\n",
       "</style>\n",
       "<table border=\"1\" class=\"dataframe\">\n",
       "  <thead>\n",
       "    <tr style=\"text-align: right;\">\n",
       "      <th></th>\n",
       "      <th>PassengerId</th>\n",
       "      <th>Survived</th>\n",
       "      <th>Pclass</th>\n",
       "      <th>Age</th>\n",
       "      <th>SibSp</th>\n",
       "      <th>Parch</th>\n",
       "      <th>Fare</th>\n",
       "    </tr>\n",
       "  </thead>\n",
       "  <tbody>\n",
       "    <tr>\n",
       "      <th>count</th>\n",
       "      <td>1309.000000</td>\n",
       "      <td>891.000000</td>\n",
       "      <td>1309.000000</td>\n",
       "      <td>1046.000000</td>\n",
       "      <td>1309.000000</td>\n",
       "      <td>1309.000000</td>\n",
       "      <td>1308.000000</td>\n",
       "    </tr>\n",
       "    <tr>\n",
       "      <th>mean</th>\n",
       "      <td>655.000000</td>\n",
       "      <td>0.383838</td>\n",
       "      <td>2.294882</td>\n",
       "      <td>29.881138</td>\n",
       "      <td>0.498854</td>\n",
       "      <td>0.385027</td>\n",
       "      <td>33.295479</td>\n",
       "    </tr>\n",
       "    <tr>\n",
       "      <th>std</th>\n",
       "      <td>378.020061</td>\n",
       "      <td>0.486592</td>\n",
       "      <td>0.837836</td>\n",
       "      <td>14.413493</td>\n",
       "      <td>1.041658</td>\n",
       "      <td>0.865560</td>\n",
       "      <td>51.758668</td>\n",
       "    </tr>\n",
       "    <tr>\n",
       "      <th>min</th>\n",
       "      <td>1.000000</td>\n",
       "      <td>0.000000</td>\n",
       "      <td>1.000000</td>\n",
       "      <td>0.170000</td>\n",
       "      <td>0.000000</td>\n",
       "      <td>0.000000</td>\n",
       "      <td>0.000000</td>\n",
       "    </tr>\n",
       "    <tr>\n",
       "      <th>25%</th>\n",
       "      <td>328.000000</td>\n",
       "      <td>0.000000</td>\n",
       "      <td>2.000000</td>\n",
       "      <td>21.000000</td>\n",
       "      <td>0.000000</td>\n",
       "      <td>0.000000</td>\n",
       "      <td>7.895800</td>\n",
       "    </tr>\n",
       "    <tr>\n",
       "      <th>50%</th>\n",
       "      <td>655.000000</td>\n",
       "      <td>0.000000</td>\n",
       "      <td>3.000000</td>\n",
       "      <td>28.000000</td>\n",
       "      <td>0.000000</td>\n",
       "      <td>0.000000</td>\n",
       "      <td>14.454200</td>\n",
       "    </tr>\n",
       "    <tr>\n",
       "      <th>75%</th>\n",
       "      <td>982.000000</td>\n",
       "      <td>1.000000</td>\n",
       "      <td>3.000000</td>\n",
       "      <td>39.000000</td>\n",
       "      <td>1.000000</td>\n",
       "      <td>0.000000</td>\n",
       "      <td>31.275000</td>\n",
       "    </tr>\n",
       "    <tr>\n",
       "      <th>max</th>\n",
       "      <td>1309.000000</td>\n",
       "      <td>1.000000</td>\n",
       "      <td>3.000000</td>\n",
       "      <td>80.000000</td>\n",
       "      <td>8.000000</td>\n",
       "      <td>9.000000</td>\n",
       "      <td>512.329200</td>\n",
       "    </tr>\n",
       "  </tbody>\n",
       "</table>\n",
       "</div>"
      ],
      "text/plain": [
       "       PassengerId    Survived       Pclass          Age        SibSp  \\\n",
       "count  1309.000000  891.000000  1309.000000  1046.000000  1309.000000   \n",
       "mean    655.000000    0.383838     2.294882    29.881138     0.498854   \n",
       "std     378.020061    0.486592     0.837836    14.413493     1.041658   \n",
       "min       1.000000    0.000000     1.000000     0.170000     0.000000   \n",
       "25%     328.000000    0.000000     2.000000    21.000000     0.000000   \n",
       "50%     655.000000    0.000000     3.000000    28.000000     0.000000   \n",
       "75%     982.000000    1.000000     3.000000    39.000000     1.000000   \n",
       "max    1309.000000    1.000000     3.000000    80.000000     8.000000   \n",
       "\n",
       "             Parch         Fare  \n",
       "count  1309.000000  1308.000000  \n",
       "mean      0.385027    33.295479  \n",
       "std       0.865560    51.758668  \n",
       "min       0.000000     0.000000  \n",
       "25%       0.000000     7.895800  \n",
       "50%       0.000000    14.454200  \n",
       "75%       0.000000    31.275000  \n",
       "max       9.000000   512.329200  "
      ]
     },
     "execution_count": 7,
     "metadata": {},
     "output_type": "execute_result"
    }
   ],
   "source": [
    "df.describe()"
   ]
  },
  {
   "cell_type": "code",
   "execution_count": 8,
   "id": "1b20010c",
   "metadata": {
    "execution": {
     "iopub.execute_input": "2023-03-16T18:41:43.567270Z",
     "iopub.status.busy": "2023-03-16T18:41:43.566612Z",
     "iopub.status.idle": "2023-03-16T18:41:43.583585Z",
     "shell.execute_reply": "2023-03-16T18:41:43.581920Z"
    },
    "papermill": {
     "duration": 0.037284,
     "end_time": "2023-03-16T18:41:43.586621",
     "exception": false,
     "start_time": "2023-03-16T18:41:43.549337",
     "status": "completed"
    },
    "tags": []
   },
   "outputs": [
    {
     "name": "stdout",
     "output_type": "stream",
     "text": [
      "<class 'pandas.core.frame.DataFrame'>\n",
      "Int64Index: 1309 entries, 0 to 417\n",
      "Data columns (total 12 columns):\n",
      " #   Column       Non-Null Count  Dtype  \n",
      "---  ------       --------------  -----  \n",
      " 0   PassengerId  1309 non-null   int64  \n",
      " 1   Survived     891 non-null    float64\n",
      " 2   Pclass       1309 non-null   int64  \n",
      " 3   Name         1309 non-null   object \n",
      " 4   Sex          1309 non-null   object \n",
      " 5   Age          1046 non-null   float64\n",
      " 6   SibSp        1309 non-null   int64  \n",
      " 7   Parch        1309 non-null   int64  \n",
      " 8   Ticket       1309 non-null   object \n",
      " 9   Fare         1308 non-null   float64\n",
      " 10  Cabin        295 non-null    object \n",
      " 11  Embarked     1307 non-null   object \n",
      "dtypes: float64(3), int64(4), object(5)\n",
      "memory usage: 132.9+ KB\n"
     ]
    }
   ],
   "source": [
    "df.info()"
   ]
  },
  {
   "cell_type": "markdown",
   "id": "c883db73",
   "metadata": {
    "papermill": {
     "duration": 0.015078,
     "end_time": "2023-03-16T18:41:43.617318",
     "exception": false,
     "start_time": "2023-03-16T18:41:43.602240",
     "status": "completed"
    },
    "tags": []
   },
   "source": [
    "### Droping unnecessery columns"
   ]
  },
  {
   "cell_type": "code",
   "execution_count": 9,
   "id": "e5914497",
   "metadata": {
    "execution": {
     "iopub.execute_input": "2023-03-16T18:41:43.651301Z",
     "iopub.status.busy": "2023-03-16T18:41:43.650446Z",
     "iopub.status.idle": "2023-03-16T18:41:43.658188Z",
     "shell.execute_reply": "2023-03-16T18:41:43.656286Z"
    },
    "papermill": {
     "duration": 0.028881,
     "end_time": "2023-03-16T18:41:43.661878",
     "exception": false,
     "start_time": "2023-03-16T18:41:43.632997",
     "status": "completed"
    },
    "tags": []
   },
   "outputs": [],
   "source": [
    "df.drop([\"PassengerId\", \"Name\", \"Ticket\", \"Cabin\"], axis= 1, inplace = True)"
   ]
  },
  {
   "cell_type": "code",
   "execution_count": 10,
   "id": "654bd71e",
   "metadata": {
    "execution": {
     "iopub.execute_input": "2023-03-16T18:41:43.695617Z",
     "iopub.status.busy": "2023-03-16T18:41:43.695205Z",
     "iopub.status.idle": "2023-03-16T18:41:43.711047Z",
     "shell.execute_reply": "2023-03-16T18:41:43.709642Z"
    },
    "papermill": {
     "duration": 0.036257,
     "end_time": "2023-03-16T18:41:43.713710",
     "exception": false,
     "start_time": "2023-03-16T18:41:43.677453",
     "status": "completed"
    },
    "tags": []
   },
   "outputs": [
    {
     "data": {
      "text/html": [
       "<div>\n",
       "<style scoped>\n",
       "    .dataframe tbody tr th:only-of-type {\n",
       "        vertical-align: middle;\n",
       "    }\n",
       "\n",
       "    .dataframe tbody tr th {\n",
       "        vertical-align: top;\n",
       "    }\n",
       "\n",
       "    .dataframe thead th {\n",
       "        text-align: right;\n",
       "    }\n",
       "</style>\n",
       "<table border=\"1\" class=\"dataframe\">\n",
       "  <thead>\n",
       "    <tr style=\"text-align: right;\">\n",
       "      <th></th>\n",
       "      <th>Survived</th>\n",
       "      <th>Pclass</th>\n",
       "      <th>Sex</th>\n",
       "      <th>Age</th>\n",
       "      <th>SibSp</th>\n",
       "      <th>Parch</th>\n",
       "      <th>Fare</th>\n",
       "      <th>Embarked</th>\n",
       "    </tr>\n",
       "  </thead>\n",
       "  <tbody>\n",
       "    <tr>\n",
       "      <th>0</th>\n",
       "      <td>0.0</td>\n",
       "      <td>3</td>\n",
       "      <td>male</td>\n",
       "      <td>22.0</td>\n",
       "      <td>1</td>\n",
       "      <td>0</td>\n",
       "      <td>7.2500</td>\n",
       "      <td>S</td>\n",
       "    </tr>\n",
       "    <tr>\n",
       "      <th>1</th>\n",
       "      <td>1.0</td>\n",
       "      <td>1</td>\n",
       "      <td>female</td>\n",
       "      <td>38.0</td>\n",
       "      <td>1</td>\n",
       "      <td>0</td>\n",
       "      <td>71.2833</td>\n",
       "      <td>C</td>\n",
       "    </tr>\n",
       "    <tr>\n",
       "      <th>2</th>\n",
       "      <td>1.0</td>\n",
       "      <td>3</td>\n",
       "      <td>female</td>\n",
       "      <td>26.0</td>\n",
       "      <td>0</td>\n",
       "      <td>0</td>\n",
       "      <td>7.9250</td>\n",
       "      <td>S</td>\n",
       "    </tr>\n",
       "    <tr>\n",
       "      <th>3</th>\n",
       "      <td>1.0</td>\n",
       "      <td>1</td>\n",
       "      <td>female</td>\n",
       "      <td>35.0</td>\n",
       "      <td>1</td>\n",
       "      <td>0</td>\n",
       "      <td>53.1000</td>\n",
       "      <td>S</td>\n",
       "    </tr>\n",
       "    <tr>\n",
       "      <th>4</th>\n",
       "      <td>0.0</td>\n",
       "      <td>3</td>\n",
       "      <td>male</td>\n",
       "      <td>35.0</td>\n",
       "      <td>0</td>\n",
       "      <td>0</td>\n",
       "      <td>8.0500</td>\n",
       "      <td>S</td>\n",
       "    </tr>\n",
       "  </tbody>\n",
       "</table>\n",
       "</div>"
      ],
      "text/plain": [
       "   Survived  Pclass     Sex   Age  SibSp  Parch     Fare Embarked\n",
       "0       0.0       3    male  22.0      1      0   7.2500        S\n",
       "1       1.0       1  female  38.0      1      0  71.2833        C\n",
       "2       1.0       3  female  26.0      0      0   7.9250        S\n",
       "3       1.0       1  female  35.0      1      0  53.1000        S\n",
       "4       0.0       3    male  35.0      0      0   8.0500        S"
      ]
     },
     "execution_count": 10,
     "metadata": {},
     "output_type": "execute_result"
    }
   ],
   "source": [
    "df.head()"
   ]
  },
  {
   "cell_type": "markdown",
   "id": "0a4e9b64",
   "metadata": {
    "papermill": {
     "duration": 0.015575,
     "end_time": "2023-03-16T18:41:43.745305",
     "exception": false,
     "start_time": "2023-03-16T18:41:43.729730",
     "status": "completed"
    },
    "tags": []
   },
   "source": [
    "## features that need to be numeric"
   ]
  },
  {
   "cell_type": "code",
   "execution_count": 11,
   "id": "74431f32",
   "metadata": {
    "execution": {
     "iopub.execute_input": "2023-03-16T18:41:43.780374Z",
     "iopub.status.busy": "2023-03-16T18:41:43.779426Z",
     "iopub.status.idle": "2023-03-16T18:41:43.793881Z",
     "shell.execute_reply": "2023-03-16T18:41:43.792710Z"
    },
    "papermill": {
     "duration": 0.035363,
     "end_time": "2023-03-16T18:41:43.796435",
     "exception": false,
     "start_time": "2023-03-16T18:41:43.761072",
     "status": "completed"
    },
    "tags": []
   },
   "outputs": [
    {
     "data": {
      "text/html": [
       "<div>\n",
       "<style scoped>\n",
       "    .dataframe tbody tr th:only-of-type {\n",
       "        vertical-align: middle;\n",
       "    }\n",
       "\n",
       "    .dataframe tbody tr th {\n",
       "        vertical-align: top;\n",
       "    }\n",
       "\n",
       "    .dataframe thead th {\n",
       "        text-align: right;\n",
       "    }\n",
       "</style>\n",
       "<table border=\"1\" class=\"dataframe\">\n",
       "  <thead>\n",
       "    <tr style=\"text-align: right;\">\n",
       "      <th></th>\n",
       "      <th>Sex</th>\n",
       "      <th>Embarked</th>\n",
       "    </tr>\n",
       "  </thead>\n",
       "  <tbody>\n",
       "    <tr>\n",
       "      <th>0</th>\n",
       "      <td>male</td>\n",
       "      <td>S</td>\n",
       "    </tr>\n",
       "    <tr>\n",
       "      <th>1</th>\n",
       "      <td>female</td>\n",
       "      <td>C</td>\n",
       "    </tr>\n",
       "    <tr>\n",
       "      <th>2</th>\n",
       "      <td>female</td>\n",
       "      <td>S</td>\n",
       "    </tr>\n",
       "    <tr>\n",
       "      <th>3</th>\n",
       "      <td>female</td>\n",
       "      <td>S</td>\n",
       "    </tr>\n",
       "    <tr>\n",
       "      <th>4</th>\n",
       "      <td>male</td>\n",
       "      <td>S</td>\n",
       "    </tr>\n",
       "    <tr>\n",
       "      <th>...</th>\n",
       "      <td>...</td>\n",
       "      <td>...</td>\n",
       "    </tr>\n",
       "    <tr>\n",
       "      <th>413</th>\n",
       "      <td>male</td>\n",
       "      <td>S</td>\n",
       "    </tr>\n",
       "    <tr>\n",
       "      <th>414</th>\n",
       "      <td>female</td>\n",
       "      <td>C</td>\n",
       "    </tr>\n",
       "    <tr>\n",
       "      <th>415</th>\n",
       "      <td>male</td>\n",
       "      <td>S</td>\n",
       "    </tr>\n",
       "    <tr>\n",
       "      <th>416</th>\n",
       "      <td>male</td>\n",
       "      <td>S</td>\n",
       "    </tr>\n",
       "    <tr>\n",
       "      <th>417</th>\n",
       "      <td>male</td>\n",
       "      <td>C</td>\n",
       "    </tr>\n",
       "  </tbody>\n",
       "</table>\n",
       "<p>1309 rows × 2 columns</p>\n",
       "</div>"
      ],
      "text/plain": [
       "        Sex Embarked\n",
       "0      male        S\n",
       "1    female        C\n",
       "2    female        S\n",
       "3    female        S\n",
       "4      male        S\n",
       "..      ...      ...\n",
       "413    male        S\n",
       "414  female        C\n",
       "415    male        S\n",
       "416    male        S\n",
       "417    male        C\n",
       "\n",
       "[1309 rows x 2 columns]"
      ]
     },
     "execution_count": 11,
     "metadata": {},
     "output_type": "execute_result"
    }
   ],
   "source": [
    "df.select_dtypes(\"O\")"
   ]
  },
  {
   "cell_type": "code",
   "execution_count": 12,
   "id": "8f5ad1ab",
   "metadata": {
    "execution": {
     "iopub.execute_input": "2023-03-16T18:41:43.830326Z",
     "iopub.status.busy": "2023-03-16T18:41:43.829887Z",
     "iopub.status.idle": "2023-03-16T18:41:43.840312Z",
     "shell.execute_reply": "2023-03-16T18:41:43.839108Z"
    },
    "papermill": {
     "duration": 0.030419,
     "end_time": "2023-03-16T18:41:43.842924",
     "exception": false,
     "start_time": "2023-03-16T18:41:43.812505",
     "status": "completed"
    },
    "tags": []
   },
   "outputs": [
    {
     "data": {
      "text/plain": [
       "Sex\n",
       "female    466\n",
       "male      843\n",
       "dtype: int64"
      ]
     },
     "execution_count": 12,
     "metadata": {},
     "output_type": "execute_result"
    }
   ],
   "source": [
    "df.groupby(\"Sex\").size()"
   ]
  },
  {
   "cell_type": "code",
   "execution_count": 13,
   "id": "6718d927",
   "metadata": {
    "execution": {
     "iopub.execute_input": "2023-03-16T18:41:43.877012Z",
     "iopub.status.busy": "2023-03-16T18:41:43.876464Z",
     "iopub.status.idle": "2023-03-16T18:41:43.886778Z",
     "shell.execute_reply": "2023-03-16T18:41:43.885301Z"
    },
    "papermill": {
     "duration": 0.030324,
     "end_time": "2023-03-16T18:41:43.889510",
     "exception": false,
     "start_time": "2023-03-16T18:41:43.859186",
     "status": "completed"
    },
    "tags": []
   },
   "outputs": [
    {
     "data": {
      "text/plain": [
       "Embarked\n",
       "C    270\n",
       "Q    123\n",
       "S    914\n",
       "dtype: int64"
      ]
     },
     "execution_count": 13,
     "metadata": {},
     "output_type": "execute_result"
    }
   ],
   "source": [
    "df.groupby([\"Embarked\"]).size()"
   ]
  },
  {
   "cell_type": "code",
   "execution_count": 14,
   "id": "8de6da63",
   "metadata": {
    "execution": {
     "iopub.execute_input": "2023-03-16T18:41:43.924074Z",
     "iopub.status.busy": "2023-03-16T18:41:43.923460Z",
     "iopub.status.idle": "2023-03-16T18:41:43.929031Z",
     "shell.execute_reply": "2023-03-16T18:41:43.927724Z"
    },
    "papermill": {
     "duration": 0.025779,
     "end_time": "2023-03-16T18:41:43.931606",
     "exception": false,
     "start_time": "2023-03-16T18:41:43.905827",
     "status": "completed"
    },
    "tags": []
   },
   "outputs": [],
   "source": [
    "le = LabelEncoder()"
   ]
  },
  {
   "cell_type": "code",
   "execution_count": 15,
   "id": "13853390",
   "metadata": {
    "execution": {
     "iopub.execute_input": "2023-03-16T18:41:43.966197Z",
     "iopub.status.busy": "2023-03-16T18:41:43.965798Z",
     "iopub.status.idle": "2023-03-16T18:41:43.973017Z",
     "shell.execute_reply": "2023-03-16T18:41:43.971689Z"
    },
    "papermill": {
     "duration": 0.027691,
     "end_time": "2023-03-16T18:41:43.975500",
     "exception": false,
     "start_time": "2023-03-16T18:41:43.947809",
     "status": "completed"
    },
    "tags": []
   },
   "outputs": [],
   "source": [
    "df[\"Sex\"]= le.fit_transform(df[\"Sex\"])\n",
    "df[\"Embarked\"]= le.fit_transform(df[\"Embarked\"])"
   ]
  },
  {
   "cell_type": "code",
   "execution_count": 16,
   "id": "fae5789c",
   "metadata": {
    "execution": {
     "iopub.execute_input": "2023-03-16T18:41:44.009962Z",
     "iopub.status.busy": "2023-03-16T18:41:44.009526Z",
     "iopub.status.idle": "2023-03-16T18:41:44.024139Z",
     "shell.execute_reply": "2023-03-16T18:41:44.022857Z"
    },
    "papermill": {
     "duration": 0.034991,
     "end_time": "2023-03-16T18:41:44.026675",
     "exception": false,
     "start_time": "2023-03-16T18:41:43.991684",
     "status": "completed"
    },
    "tags": []
   },
   "outputs": [
    {
     "data": {
      "text/html": [
       "<div>\n",
       "<style scoped>\n",
       "    .dataframe tbody tr th:only-of-type {\n",
       "        vertical-align: middle;\n",
       "    }\n",
       "\n",
       "    .dataframe tbody tr th {\n",
       "        vertical-align: top;\n",
       "    }\n",
       "\n",
       "    .dataframe thead th {\n",
       "        text-align: right;\n",
       "    }\n",
       "</style>\n",
       "<table border=\"1\" class=\"dataframe\">\n",
       "  <thead>\n",
       "    <tr style=\"text-align: right;\">\n",
       "      <th></th>\n",
       "      <th>Survived</th>\n",
       "      <th>Pclass</th>\n",
       "      <th>Sex</th>\n",
       "      <th>Age</th>\n",
       "      <th>SibSp</th>\n",
       "      <th>Parch</th>\n",
       "      <th>Fare</th>\n",
       "      <th>Embarked</th>\n",
       "    </tr>\n",
       "  </thead>\n",
       "  <tbody>\n",
       "    <tr>\n",
       "      <th>0</th>\n",
       "      <td>0.0</td>\n",
       "      <td>3</td>\n",
       "      <td>1</td>\n",
       "      <td>22.0</td>\n",
       "      <td>1</td>\n",
       "      <td>0</td>\n",
       "      <td>7.2500</td>\n",
       "      <td>2</td>\n",
       "    </tr>\n",
       "    <tr>\n",
       "      <th>1</th>\n",
       "      <td>1.0</td>\n",
       "      <td>1</td>\n",
       "      <td>0</td>\n",
       "      <td>38.0</td>\n",
       "      <td>1</td>\n",
       "      <td>0</td>\n",
       "      <td>71.2833</td>\n",
       "      <td>0</td>\n",
       "    </tr>\n",
       "  </tbody>\n",
       "</table>\n",
       "</div>"
      ],
      "text/plain": [
       "   Survived  Pclass  Sex   Age  SibSp  Parch     Fare  Embarked\n",
       "0       0.0       3    1  22.0      1      0   7.2500         2\n",
       "1       1.0       1    0  38.0      1      0  71.2833         0"
      ]
     },
     "execution_count": 16,
     "metadata": {},
     "output_type": "execute_result"
    }
   ],
   "source": [
    "df.head(2)"
   ]
  },
  {
   "cell_type": "markdown",
   "id": "dfb0ea08",
   "metadata": {
    "papermill": {
     "duration": 0.015963,
     "end_time": "2023-03-16T18:41:44.059019",
     "exception": false,
     "start_time": "2023-03-16T18:41:44.043056",
     "status": "completed"
    },
    "tags": []
   },
   "source": [
    "### find and fill null value"
   ]
  },
  {
   "cell_type": "code",
   "execution_count": 17,
   "id": "0c7fbec3",
   "metadata": {
    "execution": {
     "iopub.execute_input": "2023-03-16T18:41:44.093441Z",
     "iopub.status.busy": "2023-03-16T18:41:44.093048Z",
     "iopub.status.idle": "2023-03-16T18:41:44.103991Z",
     "shell.execute_reply": "2023-03-16T18:41:44.102828Z"
    },
    "papermill": {
     "duration": 0.031149,
     "end_time": "2023-03-16T18:41:44.106417",
     "exception": false,
     "start_time": "2023-03-16T18:41:44.075268",
     "status": "completed"
    },
    "tags": []
   },
   "outputs": [
    {
     "data": {
      "text/plain": [
       "Survived    418\n",
       "Pclass        0\n",
       "Sex           0\n",
       "Age         263\n",
       "SibSp         0\n",
       "Parch         0\n",
       "Fare          1\n",
       "Embarked      0\n",
       "dtype: int64"
      ]
     },
     "execution_count": 17,
     "metadata": {},
     "output_type": "execute_result"
    }
   ],
   "source": [
    "df.isnull().sum()"
   ]
  },
  {
   "cell_type": "code",
   "execution_count": 18,
   "id": "3294f1af",
   "metadata": {
    "execution": {
     "iopub.execute_input": "2023-03-16T18:41:44.142047Z",
     "iopub.status.busy": "2023-03-16T18:41:44.141102Z",
     "iopub.status.idle": "2023-03-16T18:41:44.151146Z",
     "shell.execute_reply": "2023-03-16T18:41:44.150117Z"
    },
    "papermill": {
     "duration": 0.030398,
     "end_time": "2023-03-16T18:41:44.153286",
     "exception": false,
     "start_time": "2023-03-16T18:41:44.122888",
     "status": "completed"
    },
    "tags": []
   },
   "outputs": [
    {
     "data": {
      "text/plain": [
       "['Survived', 'Age', 'Fare']"
      ]
     },
     "execution_count": 18,
     "metadata": {},
     "output_type": "execute_result"
    }
   ],
   "source": [
    "[column for column in df.columns if df[column].isnull().sum()>0]"
   ]
  },
  {
   "cell_type": "markdown",
   "id": "bbdf473d",
   "metadata": {
    "papermill": {
     "duration": 0.016303,
     "end_time": "2023-03-16T18:41:44.186097",
     "exception": false,
     "start_time": "2023-03-16T18:41:44.169794",
     "status": "completed"
    },
    "tags": []
   },
   "source": [
    "### Survived is target feature and so it doesn't need fill, lets do it for Age and Fare"
   ]
  },
  {
   "cell_type": "code",
   "execution_count": 19,
   "id": "b9a580b5",
   "metadata": {
    "execution": {
     "iopub.execute_input": "2023-03-16T18:41:44.223529Z",
     "iopub.status.busy": "2023-03-16T18:41:44.223041Z",
     "iopub.status.idle": "2023-03-16T18:41:44.232727Z",
     "shell.execute_reply": "2023-03-16T18:41:44.231402Z"
    },
    "papermill": {
     "duration": 0.030759,
     "end_time": "2023-03-16T18:41:44.235431",
     "exception": false,
     "start_time": "2023-03-16T18:41:44.204672",
     "status": "completed"
    },
    "tags": []
   },
   "outputs": [],
   "source": [
    "df[\"Age\"]= df[\"Age\"].fillna(df[\"Age\"].median())\n",
    "df[\"Fare\"]= df[\"Fare\"].fillna(df[\"Fare\"].mode()[0])"
   ]
  },
  {
   "cell_type": "code",
   "execution_count": 20,
   "id": "8cf6f55f",
   "metadata": {
    "execution": {
     "iopub.execute_input": "2023-03-16T18:41:44.270845Z",
     "iopub.status.busy": "2023-03-16T18:41:44.270372Z",
     "iopub.status.idle": "2023-03-16T18:41:44.280514Z",
     "shell.execute_reply": "2023-03-16T18:41:44.279590Z"
    },
    "papermill": {
     "duration": 0.030525,
     "end_time": "2023-03-16T18:41:44.282859",
     "exception": false,
     "start_time": "2023-03-16T18:41:44.252334",
     "status": "completed"
    },
    "tags": []
   },
   "outputs": [
    {
     "data": {
      "text/plain": [
       "Survived    418\n",
       "Pclass        0\n",
       "Sex           0\n",
       "Age           0\n",
       "SibSp         0\n",
       "Parch         0\n",
       "Fare          0\n",
       "Embarked      0\n",
       "dtype: int64"
      ]
     },
     "execution_count": 20,
     "metadata": {},
     "output_type": "execute_result"
    }
   ],
   "source": [
    "df.isna().sum()"
   ]
  },
  {
   "cell_type": "markdown",
   "id": "c4010f2d",
   "metadata": {
    "papermill": {
     "duration": 0.016241,
     "end_time": "2023-03-16T18:41:44.316360",
     "exception": false,
     "start_time": "2023-03-16T18:41:44.300119",
     "status": "completed"
    },
    "tags": []
   },
   "source": [
    "### Split data to train and test"
   ]
  },
  {
   "cell_type": "code",
   "execution_count": 21,
   "id": "5cb4c5b2",
   "metadata": {
    "execution": {
     "iopub.execute_input": "2023-03-16T18:41:44.351820Z",
     "iopub.status.busy": "2023-03-16T18:41:44.351028Z",
     "iopub.status.idle": "2023-03-16T18:41:44.358985Z",
     "shell.execute_reply": "2023-03-16T18:41:44.357423Z"
    },
    "papermill": {
     "duration": 0.028416,
     "end_time": "2023-03-16T18:41:44.361537",
     "exception": false,
     "start_time": "2023-03-16T18:41:44.333121",
     "status": "completed"
    },
    "tags": []
   },
   "outputs": [],
   "source": [
    "df_test = df[df[\"Survived\"].isna()]\n",
    "df_train = df[df[\"Survived\"].isna()==False]"
   ]
  },
  {
   "cell_type": "code",
   "execution_count": 22,
   "id": "8eddff08",
   "metadata": {
    "execution": {
     "iopub.execute_input": "2023-03-16T18:41:44.397001Z",
     "iopub.status.busy": "2023-03-16T18:41:44.396571Z",
     "iopub.status.idle": "2023-03-16T18:41:44.403312Z",
     "shell.execute_reply": "2023-03-16T18:41:44.401850Z"
    },
    "papermill": {
     "duration": 0.027392,
     "end_time": "2023-03-16T18:41:44.405829",
     "exception": false,
     "start_time": "2023-03-16T18:41:44.378437",
     "status": "completed"
    },
    "tags": []
   },
   "outputs": [],
   "source": [
    "X_df_test =df_test.drop(\"Survived\", axis=1)"
   ]
  },
  {
   "cell_type": "code",
   "execution_count": 23,
   "id": "cb223c01",
   "metadata": {
    "execution": {
     "iopub.execute_input": "2023-03-16T18:41:44.442648Z",
     "iopub.status.busy": "2023-03-16T18:41:44.442237Z",
     "iopub.status.idle": "2023-03-16T18:41:44.466054Z",
     "shell.execute_reply": "2023-03-16T18:41:44.464485Z"
    },
    "papermill": {
     "duration": 0.046015,
     "end_time": "2023-03-16T18:41:44.469277",
     "exception": false,
     "start_time": "2023-03-16T18:41:44.423262",
     "status": "completed"
    },
    "tags": []
   },
   "outputs": [
    {
     "data": {
      "text/html": [
       "<div>\n",
       "<style scoped>\n",
       "    .dataframe tbody tr th:only-of-type {\n",
       "        vertical-align: middle;\n",
       "    }\n",
       "\n",
       "    .dataframe tbody tr th {\n",
       "        vertical-align: top;\n",
       "    }\n",
       "\n",
       "    .dataframe thead th {\n",
       "        text-align: right;\n",
       "    }\n",
       "</style>\n",
       "<table border=\"1\" class=\"dataframe\">\n",
       "  <thead>\n",
       "    <tr style=\"text-align: right;\">\n",
       "      <th></th>\n",
       "      <th>Pclass</th>\n",
       "      <th>Sex</th>\n",
       "      <th>Age</th>\n",
       "      <th>SibSp</th>\n",
       "      <th>Parch</th>\n",
       "      <th>Fare</th>\n",
       "      <th>Embarked</th>\n",
       "    </tr>\n",
       "  </thead>\n",
       "  <tbody>\n",
       "    <tr>\n",
       "      <th>0</th>\n",
       "      <td>3</td>\n",
       "      <td>1</td>\n",
       "      <td>0.975204</td>\n",
       "      <td>0</td>\n",
       "      <td>0</td>\n",
       "      <td>0.221306</td>\n",
       "      <td>1</td>\n",
       "    </tr>\n",
       "    <tr>\n",
       "      <th>1</th>\n",
       "      <td>3</td>\n",
       "      <td>0</td>\n",
       "      <td>0.989090</td>\n",
       "      <td>1</td>\n",
       "      <td>0</td>\n",
       "      <td>0.147311</td>\n",
       "      <td>2</td>\n",
       "    </tr>\n",
       "    <tr>\n",
       "      <th>2</th>\n",
       "      <td>2</td>\n",
       "      <td>1</td>\n",
       "      <td>0.988012</td>\n",
       "      <td>0</td>\n",
       "      <td>0</td>\n",
       "      <td>0.154377</td>\n",
       "      <td>1</td>\n",
       "    </tr>\n",
       "    <tr>\n",
       "      <th>3</th>\n",
       "      <td>3</td>\n",
       "      <td>1</td>\n",
       "      <td>0.952194</td>\n",
       "      <td>0</td>\n",
       "      <td>0</td>\n",
       "      <td>0.305495</td>\n",
       "      <td>2</td>\n",
       "    </tr>\n",
       "    <tr>\n",
       "      <th>4</th>\n",
       "      <td>3</td>\n",
       "      <td>0</td>\n",
       "      <td>0.873055</td>\n",
       "      <td>1</td>\n",
       "      <td>1</td>\n",
       "      <td>0.487621</td>\n",
       "      <td>2</td>\n",
       "    </tr>\n",
       "    <tr>\n",
       "      <th>...</th>\n",
       "      <td>...</td>\n",
       "      <td>...</td>\n",
       "      <td>...</td>\n",
       "      <td>...</td>\n",
       "      <td>...</td>\n",
       "      <td>...</td>\n",
       "      <td>...</td>\n",
       "    </tr>\n",
       "    <tr>\n",
       "      <th>413</th>\n",
       "      <td>3</td>\n",
       "      <td>1</td>\n",
       "      <td>0.961069</td>\n",
       "      <td>0</td>\n",
       "      <td>0</td>\n",
       "      <td>0.276307</td>\n",
       "      <td>2</td>\n",
       "    </tr>\n",
       "    <tr>\n",
       "      <th>414</th>\n",
       "      <td>1</td>\n",
       "      <td>0</td>\n",
       "      <td>0.337158</td>\n",
       "      <td>0</td>\n",
       "      <td>0</td>\n",
       "      <td>0.941448</td>\n",
       "      <td>0</td>\n",
       "    </tr>\n",
       "    <tr>\n",
       "      <th>415</th>\n",
       "      <td>3</td>\n",
       "      <td>1</td>\n",
       "      <td>0.982727</td>\n",
       "      <td>0</td>\n",
       "      <td>0</td>\n",
       "      <td>0.185059</td>\n",
       "      <td>2</td>\n",
       "    </tr>\n",
       "    <tr>\n",
       "      <th>416</th>\n",
       "      <td>3</td>\n",
       "      <td>1</td>\n",
       "      <td>0.961069</td>\n",
       "      <td>0</td>\n",
       "      <td>0</td>\n",
       "      <td>0.276307</td>\n",
       "      <td>2</td>\n",
       "    </tr>\n",
       "    <tr>\n",
       "      <th>417</th>\n",
       "      <td>3</td>\n",
       "      <td>1</td>\n",
       "      <td>0.781436</td>\n",
       "      <td>1</td>\n",
       "      <td>1</td>\n",
       "      <td>0.623985</td>\n",
       "      <td>0</td>\n",
       "    </tr>\n",
       "  </tbody>\n",
       "</table>\n",
       "<p>418 rows × 7 columns</p>\n",
       "</div>"
      ],
      "text/plain": [
       "     Pclass  Sex       Age  SibSp  Parch      Fare  Embarked\n",
       "0         3    1  0.975204      0      0  0.221306         1\n",
       "1         3    0  0.989090      1      0  0.147311         2\n",
       "2         2    1  0.988012      0      0  0.154377         1\n",
       "3         3    1  0.952194      0      0  0.305495         2\n",
       "4         3    0  0.873055      1      1  0.487621         2\n",
       "..      ...  ...       ...    ...    ...       ...       ...\n",
       "413       3    1  0.961069      0      0  0.276307         2\n",
       "414       1    0  0.337158      0      0  0.941448         0\n",
       "415       3    1  0.982727      0      0  0.185059         2\n",
       "416       3    1  0.961069      0      0  0.276307         2\n",
       "417       3    1  0.781436      1      1  0.623985         0\n",
       "\n",
       "[418 rows x 7 columns]"
      ]
     },
     "execution_count": 23,
     "metadata": {},
     "output_type": "execute_result"
    }
   ],
   "source": [
    "norm = Normalizer()\n",
    "X_df_test[[\"Age\", \"Fare\"]] =norm.fit_transform(X_df_test[[\"Age\", \"Fare\"]])\n",
    "X_df_test"
   ]
  },
  {
   "cell_type": "markdown",
   "id": "27b60103",
   "metadata": {
    "papermill": {
     "duration": 0.016656,
     "end_time": "2023-03-16T18:41:44.503693",
     "exception": false,
     "start_time": "2023-03-16T18:41:44.487037",
     "status": "completed"
    },
    "tags": []
   },
   "source": [
    "## To build a model, it is necessary to separate the target variable(y) from the predictor variables(X)"
   ]
  },
  {
   "cell_type": "code",
   "execution_count": 24,
   "id": "2bd13d95",
   "metadata": {
    "execution": {
     "iopub.execute_input": "2023-03-16T18:41:44.539897Z",
     "iopub.status.busy": "2023-03-16T18:41:44.539456Z",
     "iopub.status.idle": "2023-03-16T18:41:44.546251Z",
     "shell.execute_reply": "2023-03-16T18:41:44.544922Z"
    },
    "papermill": {
     "duration": 0.028249,
     "end_time": "2023-03-16T18:41:44.548963",
     "exception": false,
     "start_time": "2023-03-16T18:41:44.520714",
     "status": "completed"
    },
    "tags": []
   },
   "outputs": [],
   "source": [
    "y = df_train[\"Survived\"]\n",
    "X = df_train.drop([\"Survived\"], axis=1)"
   ]
  },
  {
   "cell_type": "code",
   "execution_count": 25,
   "id": "61060f55",
   "metadata": {
    "execution": {
     "iopub.execute_input": "2023-03-16T18:41:44.585133Z",
     "iopub.status.busy": "2023-03-16T18:41:44.584316Z",
     "iopub.status.idle": "2023-03-16T18:41:44.591571Z",
     "shell.execute_reply": "2023-03-16T18:41:44.590401Z"
    },
    "papermill": {
     "duration": 0.02835,
     "end_time": "2023-03-16T18:41:44.594322",
     "exception": false,
     "start_time": "2023-03-16T18:41:44.565972",
     "status": "completed"
    },
    "tags": []
   },
   "outputs": [
    {
     "data": {
      "text/plain": [
       "((891, 7), (891,))"
      ]
     },
     "execution_count": 25,
     "metadata": {},
     "output_type": "execute_result"
    }
   ],
   "source": [
    "X.shape , y.shape"
   ]
  },
  {
   "cell_type": "code",
   "execution_count": 26,
   "id": "1023529c",
   "metadata": {
    "execution": {
     "iopub.execute_input": "2023-03-16T18:41:44.631009Z",
     "iopub.status.busy": "2023-03-16T18:41:44.629864Z",
     "iopub.status.idle": "2023-03-16T18:41:44.643611Z",
     "shell.execute_reply": "2023-03-16T18:41:44.642298Z"
    },
    "papermill": {
     "duration": 0.034902,
     "end_time": "2023-03-16T18:41:44.646319",
     "exception": false,
     "start_time": "2023-03-16T18:41:44.611417",
     "status": "completed"
    },
    "tags": []
   },
   "outputs": [
    {
     "data": {
      "text/html": [
       "<div>\n",
       "<style scoped>\n",
       "    .dataframe tbody tr th:only-of-type {\n",
       "        vertical-align: middle;\n",
       "    }\n",
       "\n",
       "    .dataframe tbody tr th {\n",
       "        vertical-align: top;\n",
       "    }\n",
       "\n",
       "    .dataframe thead th {\n",
       "        text-align: right;\n",
       "    }\n",
       "</style>\n",
       "<table border=\"1\" class=\"dataframe\">\n",
       "  <thead>\n",
       "    <tr style=\"text-align: right;\">\n",
       "      <th></th>\n",
       "      <th>Pclass</th>\n",
       "      <th>Sex</th>\n",
       "      <th>Age</th>\n",
       "      <th>SibSp</th>\n",
       "      <th>Parch</th>\n",
       "      <th>Fare</th>\n",
       "      <th>Embarked</th>\n",
       "    </tr>\n",
       "  </thead>\n",
       "  <tbody>\n",
       "    <tr>\n",
       "      <th>0</th>\n",
       "      <td>3</td>\n",
       "      <td>1</td>\n",
       "      <td>22.0</td>\n",
       "      <td>1</td>\n",
       "      <td>0</td>\n",
       "      <td>7.2500</td>\n",
       "      <td>2</td>\n",
       "    </tr>\n",
       "    <tr>\n",
       "      <th>1</th>\n",
       "      <td>1</td>\n",
       "      <td>0</td>\n",
       "      <td>38.0</td>\n",
       "      <td>1</td>\n",
       "      <td>0</td>\n",
       "      <td>71.2833</td>\n",
       "      <td>0</td>\n",
       "    </tr>\n",
       "    <tr>\n",
       "      <th>2</th>\n",
       "      <td>3</td>\n",
       "      <td>0</td>\n",
       "      <td>26.0</td>\n",
       "      <td>0</td>\n",
       "      <td>0</td>\n",
       "      <td>7.9250</td>\n",
       "      <td>2</td>\n",
       "    </tr>\n",
       "    <tr>\n",
       "      <th>3</th>\n",
       "      <td>1</td>\n",
       "      <td>0</td>\n",
       "      <td>35.0</td>\n",
       "      <td>1</td>\n",
       "      <td>0</td>\n",
       "      <td>53.1000</td>\n",
       "      <td>2</td>\n",
       "    </tr>\n",
       "    <tr>\n",
       "      <th>4</th>\n",
       "      <td>3</td>\n",
       "      <td>1</td>\n",
       "      <td>35.0</td>\n",
       "      <td>0</td>\n",
       "      <td>0</td>\n",
       "      <td>8.0500</td>\n",
       "      <td>2</td>\n",
       "    </tr>\n",
       "  </tbody>\n",
       "</table>\n",
       "</div>"
      ],
      "text/plain": [
       "   Pclass  Sex   Age  SibSp  Parch     Fare  Embarked\n",
       "0       3    1  22.0      1      0   7.2500         2\n",
       "1       1    0  38.0      1      0  71.2833         0\n",
       "2       3    0  26.0      0      0   7.9250         2\n",
       "3       1    0  35.0      1      0  53.1000         2\n",
       "4       3    1  35.0      0      0   8.0500         2"
      ]
     },
     "execution_count": 26,
     "metadata": {},
     "output_type": "execute_result"
    }
   ],
   "source": [
    "X.head()"
   ]
  },
  {
   "cell_type": "markdown",
   "id": "add0ee7c",
   "metadata": {
    "papermill": {
     "duration": 0.016889,
     "end_time": "2023-03-16T18:41:44.681541",
     "exception": false,
     "start_time": "2023-03-16T18:41:44.664652",
     "status": "completed"
    },
    "tags": []
   },
   "source": [
    "There are two features that need to scaling"
   ]
  },
  {
   "cell_type": "code",
   "execution_count": 27,
   "id": "c01b3ddb",
   "metadata": {
    "execution": {
     "iopub.execute_input": "2023-03-16T18:41:44.718255Z",
     "iopub.status.busy": "2023-03-16T18:41:44.717424Z",
     "iopub.status.idle": "2023-03-16T18:41:44.721963Z",
     "shell.execute_reply": "2023-03-16T18:41:44.721035Z"
    },
    "papermill": {
     "duration": 0.025548,
     "end_time": "2023-03-16T18:41:44.724322",
     "exception": false,
     "start_time": "2023-03-16T18:41:44.698774",
     "status": "completed"
    },
    "tags": []
   },
   "outputs": [],
   "source": [
    "norm = Normalizer()"
   ]
  },
  {
   "cell_type": "code",
   "execution_count": 28,
   "id": "6c558a98",
   "metadata": {
    "execution": {
     "iopub.execute_input": "2023-03-16T18:41:44.762410Z",
     "iopub.status.busy": "2023-03-16T18:41:44.761317Z",
     "iopub.status.idle": "2023-03-16T18:41:44.780190Z",
     "shell.execute_reply": "2023-03-16T18:41:44.778805Z"
    },
    "papermill": {
     "duration": 0.040769,
     "end_time": "2023-03-16T18:41:44.783071",
     "exception": false,
     "start_time": "2023-03-16T18:41:44.742302",
     "status": "completed"
    },
    "tags": []
   },
   "outputs": [
    {
     "data": {
      "text/html": [
       "<div>\n",
       "<style scoped>\n",
       "    .dataframe tbody tr th:only-of-type {\n",
       "        vertical-align: middle;\n",
       "    }\n",
       "\n",
       "    .dataframe tbody tr th {\n",
       "        vertical-align: top;\n",
       "    }\n",
       "\n",
       "    .dataframe thead th {\n",
       "        text-align: right;\n",
       "    }\n",
       "</style>\n",
       "<table border=\"1\" class=\"dataframe\">\n",
       "  <thead>\n",
       "    <tr style=\"text-align: right;\">\n",
       "      <th></th>\n",
       "      <th>Pclass</th>\n",
       "      <th>Sex</th>\n",
       "      <th>Age</th>\n",
       "      <th>SibSp</th>\n",
       "      <th>Parch</th>\n",
       "      <th>Fare</th>\n",
       "      <th>Embarked</th>\n",
       "    </tr>\n",
       "  </thead>\n",
       "  <tbody>\n",
       "    <tr>\n",
       "      <th>0</th>\n",
       "      <td>3</td>\n",
       "      <td>1</td>\n",
       "      <td>0.949757</td>\n",
       "      <td>1</td>\n",
       "      <td>0</td>\n",
       "      <td>0.312988</td>\n",
       "      <td>2</td>\n",
       "    </tr>\n",
       "    <tr>\n",
       "      <th>1</th>\n",
       "      <td>1</td>\n",
       "      <td>0</td>\n",
       "      <td>0.470417</td>\n",
       "      <td>1</td>\n",
       "      <td>0</td>\n",
       "      <td>0.882444</td>\n",
       "      <td>0</td>\n",
       "    </tr>\n",
       "    <tr>\n",
       "      <th>2</th>\n",
       "      <td>3</td>\n",
       "      <td>0</td>\n",
       "      <td>0.956551</td>\n",
       "      <td>0</td>\n",
       "      <td>0</td>\n",
       "      <td>0.291564</td>\n",
       "      <td>2</td>\n",
       "    </tr>\n",
       "    <tr>\n",
       "      <th>3</th>\n",
       "      <td>1</td>\n",
       "      <td>0</td>\n",
       "      <td>0.550338</td>\n",
       "      <td>1</td>\n",
       "      <td>0</td>\n",
       "      <td>0.834942</td>\n",
       "      <td>2</td>\n",
       "    </tr>\n",
       "    <tr>\n",
       "      <th>4</th>\n",
       "      <td>3</td>\n",
       "      <td>1</td>\n",
       "      <td>0.974555</td>\n",
       "      <td>0</td>\n",
       "      <td>0</td>\n",
       "      <td>0.224148</td>\n",
       "      <td>2</td>\n",
       "    </tr>\n",
       "  </tbody>\n",
       "</table>\n",
       "</div>"
      ],
      "text/plain": [
       "   Pclass  Sex       Age  SibSp  Parch      Fare  Embarked\n",
       "0       3    1  0.949757      1      0  0.312988         2\n",
       "1       1    0  0.470417      1      0  0.882444         0\n",
       "2       3    0  0.956551      0      0  0.291564         2\n",
       "3       1    0  0.550338      1      0  0.834942         2\n",
       "4       3    1  0.974555      0      0  0.224148         2"
      ]
     },
     "execution_count": 28,
     "metadata": {},
     "output_type": "execute_result"
    }
   ],
   "source": [
    "X[[\"Age\", \"Fare\"]] =norm.fit_transform(X[[\"Age\", \"Fare\"]])\n",
    "X.head()"
   ]
  },
  {
   "cell_type": "markdown",
   "id": "4c46d0d0",
   "metadata": {
    "execution": {
     "iopub.status.busy": "2023-03-15T17:53:55.977066Z",
     "iopub.status.idle": "2023-03-15T17:53:55.977545Z",
     "shell.execute_reply": "2023-03-15T17:53:55.977341Z",
     "shell.execute_reply.started": "2023-03-15T17:53:55.977315Z"
    },
    "papermill": {
     "duration": 0.017292,
     "end_time": "2023-03-16T18:41:44.817976",
     "exception": false,
     "start_time": "2023-03-16T18:41:44.800684",
     "status": "completed"
    },
    "tags": []
   },
   "source": [
    "# LGBM or Light Gradian Boosting Model"
   ]
  },
  {
   "cell_type": "code",
   "execution_count": 29,
   "id": "84d24f0e",
   "metadata": {
    "execution": {
     "iopub.execute_input": "2023-03-16T18:41:44.856105Z",
     "iopub.status.busy": "2023-03-16T18:41:44.855398Z",
     "iopub.status.idle": "2023-03-16T18:41:49.180200Z",
     "shell.execute_reply": "2023-03-16T18:41:49.178618Z"
    },
    "papermill": {
     "duration": 4.347218,
     "end_time": "2023-03-16T18:41:49.183410",
     "exception": false,
     "start_time": "2023-03-16T18:41:44.836192",
     "status": "completed"
    },
    "tags": []
   },
   "outputs": [],
   "source": [
    "X_train, X_test, y_train, y_test = train_test_split(X, y , test_size=0.3 , random_state=SEED)\n",
    "kf = StratifiedKFold(n_splits=10 ,shuffle=True)\n",
    "lgb = LGBMClassifier(random_state=SEED)\n",
    "scores = cross_validate(lgb, X, y, scoring=('roc_auc',\"accuracy\",\"f1\"),cv=kf, n_jobs=-1, return_estimator=True)\n",
    "model_lgb = scores[\"estimator\"]"
   ]
  },
  {
   "cell_type": "code",
   "execution_count": 30,
   "id": "6c0a44d5",
   "metadata": {
    "execution": {
     "iopub.execute_input": "2023-03-16T18:41:49.221078Z",
     "iopub.status.busy": "2023-03-16T18:41:49.220202Z",
     "iopub.status.idle": "2023-03-16T18:41:49.271347Z",
     "shell.execute_reply": "2023-03-16T18:41:49.269433Z"
    },
    "papermill": {
     "duration": 0.073653,
     "end_time": "2023-03-16T18:41:49.274571",
     "exception": false,
     "start_time": "2023-03-16T18:41:49.200918",
     "status": "completed"
    },
    "tags": []
   },
   "outputs": [
    {
     "name": "stdout",
     "output_type": "stream",
     "text": [
      "LGBM Accuracy(train data) = 0.9425\n"
     ]
    }
   ],
   "source": [
    "y_hats = [model.predict(X_test) for model in model_lgb]\n",
    "accuracy = np.mean([accuracy_score(y_hat, y_test) for y_hat in y_hats])\n",
    "print(f'LGBM Accuracy(train data) = {accuracy:.4f}')"
   ]
  },
  {
   "cell_type": "markdown",
   "id": "bbd2c79f",
   "metadata": {
    "execution": {
     "iopub.execute_input": "2023-03-15T20:17:33.405492Z",
     "iopub.status.busy": "2023-03-15T20:17:33.405066Z",
     "iopub.status.idle": "2023-03-15T20:17:33.415325Z",
     "shell.execute_reply": "2023-03-15T20:17:33.413193Z",
     "shell.execute_reply.started": "2023-03-15T20:17:33.405458Z"
    },
    "papermill": {
     "duration": 0.017285,
     "end_time": "2023-03-16T18:41:49.310747",
     "exception": false,
     "start_time": "2023-03-16T18:41:49.293462",
     "status": "completed"
    },
    "tags": []
   },
   "source": [
    "# XGB or eXtreme Gradient Boosting Model"
   ]
  },
  {
   "cell_type": "code",
   "execution_count": 31,
   "id": "d71df4ee",
   "metadata": {
    "execution": {
     "iopub.execute_input": "2023-03-16T18:41:49.347793Z",
     "iopub.status.busy": "2023-03-16T18:41:49.347322Z",
     "iopub.status.idle": "2023-03-16T18:41:49.924071Z",
     "shell.execute_reply": "2023-03-16T18:41:49.922769Z"
    },
    "papermill": {
     "duration": 0.599266,
     "end_time": "2023-03-16T18:41:49.927507",
     "exception": false,
     "start_time": "2023-03-16T18:41:49.328241",
     "status": "completed"
    },
    "tags": []
   },
   "outputs": [],
   "source": [
    "xgb = XGBClassifier(booster = \"gbtree\" , learning_rate = 0.3 , n_estimators = 10, random_state=SEED)\n",
    "scores = cross_validate(xgb,X_train, y_train,scoring=\"accuracy\",cv=kf, n_jobs=-1, return_estimator=True)\n",
    "model_xgb = scores[\"estimator\"]"
   ]
  },
  {
   "cell_type": "code",
   "execution_count": 32,
   "id": "95b5e0c1",
   "metadata": {
    "execution": {
     "iopub.execute_input": "2023-03-16T18:41:49.971463Z",
     "iopub.status.busy": "2023-03-16T18:41:49.970443Z",
     "iopub.status.idle": "2023-03-16T18:41:50.025743Z",
     "shell.execute_reply": "2023-03-16T18:41:50.024395Z"
    },
    "papermill": {
     "duration": 0.07973,
     "end_time": "2023-03-16T18:41:50.028390",
     "exception": false,
     "start_time": "2023-03-16T18:41:49.948660",
     "status": "completed"
    },
    "tags": []
   },
   "outputs": [
    {
     "name": "stdout",
     "output_type": "stream",
     "text": [
      "XGB Accuracy(train data) = 0.8190\n"
     ]
    }
   ],
   "source": [
    "y_hats= [model.predict(X_test) for model in model_xgb]\n",
    "acc = np.mean([accuracy_score(y_test, y_hat) for y_hat in y_hats])\n",
    "print(f'XGB Accuracy(train data) = {acc:.4f}')"
   ]
  },
  {
   "cell_type": "markdown",
   "id": "07a5ecec",
   "metadata": {
    "papermill": {
     "duration": 0.02016,
     "end_time": "2023-03-16T18:41:50.066554",
     "exception": false,
     "start_time": "2023-03-16T18:41:50.046394",
     "status": "completed"
    },
    "tags": []
   },
   "source": [
    "#### The best parametrs for XGB, we use Grid Search"
   ]
  },
  {
   "cell_type": "code",
   "execution_count": 33,
   "id": "f153c21b",
   "metadata": {
    "execution": {
     "iopub.execute_input": "2023-03-16T18:41:50.112815Z",
     "iopub.status.busy": "2023-03-16T18:41:50.112009Z",
     "iopub.status.idle": "2023-03-16T18:41:50.118708Z",
     "shell.execute_reply": "2023-03-16T18:41:50.117456Z"
    },
    "papermill": {
     "duration": 0.035925,
     "end_time": "2023-03-16T18:41:50.121667",
     "exception": false,
     "start_time": "2023-03-16T18:41:50.085742",
     "status": "completed"
    },
    "tags": []
   },
   "outputs": [],
   "source": [
    "from sklearn.model_selection import GridSearchCV"
   ]
  },
  {
   "cell_type": "code",
   "execution_count": 34,
   "id": "e7ad2d68",
   "metadata": {
    "execution": {
     "iopub.execute_input": "2023-03-16T18:41:50.171892Z",
     "iopub.status.busy": "2023-03-16T18:41:50.170588Z",
     "iopub.status.idle": "2023-03-16T18:42:01.001735Z",
     "shell.execute_reply": "2023-03-16T18:42:01.000390Z"
    },
    "papermill": {
     "duration": 10.85894,
     "end_time": "2023-03-16T18:42:01.004979",
     "exception": false,
     "start_time": "2023-03-16T18:41:50.146039",
     "status": "completed"
    },
    "tags": []
   },
   "outputs": [
    {
     "name": "stdout",
     "output_type": "stream",
     "text": [
      "{'booster': 'gbtree', 'learning_rate': 0.3, 'n_estimators': 10}\n"
     ]
    }
   ],
   "source": [
    "parameters = {\n",
    "    'booster': ['gbtree', 'gblinear', 'dart'],\n",
    "    'learning_rate': [0.1, 0.3, 0.6, 0.9, 1],\n",
    "    'n_estimators': [0.1,1,10, 15]\n",
    "}\n",
    "grid = GridSearchCV(xgb, param_grid=parameters,cv=5 , verbose=0 )\n",
    "grid.fit(X_train, y_train)\n",
    "print(grid.best_params_)"
   ]
  },
  {
   "cell_type": "markdown",
   "id": "ee523a3b",
   "metadata": {
    "papermill": {
     "duration": 0.01736,
     "end_time": "2023-03-16T18:42:01.040859",
     "exception": false,
     "start_time": "2023-03-16T18:42:01.023499",
     "status": "completed"
    },
    "tags": []
   },
   "source": [
    "# RFC or RandomForestClassifier model"
   ]
  },
  {
   "cell_type": "code",
   "execution_count": 35,
   "id": "8a6d30db",
   "metadata": {
    "execution": {
     "iopub.execute_input": "2023-03-16T18:42:01.080190Z",
     "iopub.status.busy": "2023-03-16T18:42:01.079151Z",
     "iopub.status.idle": "2023-03-16T18:42:01.446122Z",
     "shell.execute_reply": "2023-03-16T18:42:01.444746Z"
    },
    "papermill": {
     "duration": 0.390469,
     "end_time": "2023-03-16T18:42:01.449334",
     "exception": false,
     "start_time": "2023-03-16T18:42:01.058865",
     "status": "completed"
    },
    "tags": []
   },
   "outputs": [],
   "source": [
    "rfc = RandomForestClassifier(criterion='entropy' ,max_features=\"auto\", n_estimators=15 ,random_state=SEED)\n",
    "scores = cross_validate(rfc , X_train, y_train, scoring=\"accuracy\",cv=kf, n_jobs=-1, return_estimator=True)\n",
    "model_rfc = scores[\"estimator\"]"
   ]
  },
  {
   "cell_type": "code",
   "execution_count": 36,
   "id": "2399154e",
   "metadata": {
    "execution": {
     "iopub.execute_input": "2023-03-16T18:42:01.488994Z",
     "iopub.status.busy": "2023-03-16T18:42:01.488228Z",
     "iopub.status.idle": "2023-03-16T18:42:01.547435Z",
     "shell.execute_reply": "2023-03-16T18:42:01.545816Z"
    },
    "papermill": {
     "duration": 0.083205,
     "end_time": "2023-03-16T18:42:01.551318",
     "exception": false,
     "start_time": "2023-03-16T18:42:01.468113",
     "status": "completed"
    },
    "tags": []
   },
   "outputs": [
    {
     "name": "stdout",
     "output_type": "stream",
     "text": [
      "RFC Accuracy(train data) = 0.7937\n"
     ]
    }
   ],
   "source": [
    "y_hats = [model.predict(X_test) for model in model_rfc]\n",
    "acc = np.mean([accuracy_score(y_test, y_hat) for y_hat in y_hats])\n",
    "print(f'RFC Accuracy(train data) = {acc:.4f}')"
   ]
  },
  {
   "cell_type": "markdown",
   "id": "5a67e7a4",
   "metadata": {
    "papermill": {
     "duration": 0.017595,
     "end_time": "2023-03-16T18:42:01.587319",
     "exception": false,
     "start_time": "2023-03-16T18:42:01.569724",
     "status": "completed"
    },
    "tags": []
   },
   "source": [
    "### The best parametrs for RFC"
   ]
  },
  {
   "cell_type": "code",
   "execution_count": 37,
   "id": "8777e5eb",
   "metadata": {
    "execution": {
     "iopub.execute_input": "2023-03-16T18:42:01.625553Z",
     "iopub.status.busy": "2023-03-16T18:42:01.625155Z",
     "iopub.status.idle": "2023-03-16T18:42:22.774925Z",
     "shell.execute_reply": "2023-03-16T18:42:22.773713Z"
    },
    "papermill": {
     "duration": 21.172312,
     "end_time": "2023-03-16T18:42:22.777999",
     "exception": false,
     "start_time": "2023-03-16T18:42:01.605687",
     "status": "completed"
    },
    "tags": []
   },
   "outputs": [
    {
     "name": "stdout",
     "output_type": "stream",
     "text": [
      "Fitting 5 folds for each of 24 candidates, totalling 120 fits\n",
      "{'criterion': 'gini', 'max_features': 'sqrt', 'n_estimators': 15}\n"
     ]
    }
   ],
   "source": [
    "from sklearn.model_selection import GridSearchCV\n",
    "rfc = RandomForestClassifier()\n",
    "parameters = {\n",
    "    'criterion': [ \"gini\" , \"entropy\"],\n",
    "    'max_features' : [\"auto\", \"sqrt\", \"log2\"],\n",
    "    'n_estimators': [15, 50, 100, 200]\n",
    "}\n",
    "grid = GridSearchCV(rfc, param_grid=parameters,cv=5 , verbose=1 )\n",
    "grid.fit(X_train, y_train)\n",
    "print(grid.best_params_)"
   ]
  },
  {
   "cell_type": "markdown",
   "id": "be99b5a1",
   "metadata": {
    "papermill": {
     "duration": 0.017645,
     "end_time": "2023-03-16T18:42:22.814924",
     "exception": false,
     "start_time": "2023-03-16T18:42:22.797279",
     "status": "completed"
    },
    "tags": []
   },
   "source": [
    "## GBC or GradientBoostingClassifier Model"
   ]
  },
  {
   "cell_type": "code",
   "execution_count": 38,
   "id": "6bd0c529",
   "metadata": {
    "execution": {
     "iopub.execute_input": "2023-03-16T18:42:22.852950Z",
     "iopub.status.busy": "2023-03-16T18:42:22.852267Z",
     "iopub.status.idle": "2023-03-16T18:42:23.016796Z",
     "shell.execute_reply": "2023-03-16T18:42:23.015659Z"
    },
    "papermill": {
     "duration": 0.186937,
     "end_time": "2023-03-16T18:42:23.019736",
     "exception": false,
     "start_time": "2023-03-16T18:42:22.832799",
     "status": "completed"
    },
    "tags": []
   },
   "outputs": [],
   "source": [
    "gbc = GradientBoostingClassifier(criterion= 'squared_error',\n",
    "                                learning_rate= 0.3,\n",
    "                                loss= 'deviance',\n",
    "                                n_estimators= 10 ,\n",
    "                                random_state=SEED)\n",
    "scores = cross_validate(gbc, X_train, y_train, scoring=\"accuracy\",cv=kf, n_jobs=-1, return_estimator=True)\n",
    "model_gbc = scores[\"estimator\"]"
   ]
  },
  {
   "cell_type": "code",
   "execution_count": 39,
   "id": "671654f7",
   "metadata": {
    "execution": {
     "iopub.execute_input": "2023-03-16T18:42:23.057956Z",
     "iopub.status.busy": "2023-03-16T18:42:23.057268Z",
     "iopub.status.idle": "2023-03-16T18:42:23.082451Z",
     "shell.execute_reply": "2023-03-16T18:42:23.081447Z"
    },
    "papermill": {
     "duration": 0.047833,
     "end_time": "2023-03-16T18:42:23.085617",
     "exception": false,
     "start_time": "2023-03-16T18:42:23.037784",
     "status": "completed"
    },
    "tags": []
   },
   "outputs": [
    {
     "name": "stdout",
     "output_type": "stream",
     "text": [
      "GBC Accuracy(train data) = 0.8228\n"
     ]
    }
   ],
   "source": [
    "y_hats = [model.predict(X_test) for model in model_gbc]\n",
    "acc = np.mean([accuracy_score(y_test, y_hat) for y_hat in y_hats])\n",
    "print(f'GBC Accuracy(train data) = {acc:.4f}')"
   ]
  },
  {
   "cell_type": "markdown",
   "id": "9f382c6e",
   "metadata": {
    "papermill": {
     "duration": 0.018008,
     "end_time": "2023-03-16T18:42:23.121499",
     "exception": false,
     "start_time": "2023-03-16T18:42:23.103491",
     "status": "completed"
    },
    "tags": []
   },
   "source": [
    "### The best parametrs for GBC"
   ]
  },
  {
   "cell_type": "code",
   "execution_count": 40,
   "id": "13ebdbca",
   "metadata": {
    "execution": {
     "iopub.execute_input": "2023-03-16T18:42:23.160204Z",
     "iopub.status.busy": "2023-03-16T18:42:23.159517Z",
     "iopub.status.idle": "2023-03-16T18:42:40.854276Z",
     "shell.execute_reply": "2023-03-16T18:42:40.852770Z"
    },
    "papermill": {
     "duration": 17.718339,
     "end_time": "2023-03-16T18:42:40.858185",
     "exception": false,
     "start_time": "2023-03-16T18:42:23.139846",
     "status": "completed"
    },
    "tags": []
   },
   "outputs": [
    {
     "name": "stdout",
     "output_type": "stream",
     "text": [
      "Fitting 5 folds for each of 36 candidates, totalling 180 fits\n",
      "{'criterion': 'friedman_mse', 'learning_rate': 0.1, 'loss': 'deviance', 'n_estimators': 10}\n"
     ]
    }
   ],
   "source": [
    "gb = GradientBoostingClassifier()\n",
    "parameters = {\n",
    "    'loss': [ 'deviance', 'exponential'],\n",
    "    'criterion': ['friedman_mse', 'squared_error'],\n",
    "    'learning_rate' : [0.1, 0.3 , 10],\n",
    "    'n_estimators': [10, 100, 200]\n",
    "}\n",
    "grid = GridSearchCV(gb, param_grid=parameters,cv=5 , verbose=1 )\n",
    "grid.fit(X_train, y_train)\n",
    "print(grid.best_params_)"
   ]
  },
  {
   "cell_type": "markdown",
   "id": "6edbfe6c",
   "metadata": {
    "papermill": {
     "duration": 0.018307,
     "end_time": "2023-03-16T18:42:40.895933",
     "exception": false,
     "start_time": "2023-03-16T18:42:40.877626",
     "status": "completed"
    },
    "tags": []
   },
   "source": [
    "## CAT or CatBoost Model"
   ]
  },
  {
   "cell_type": "code",
   "execution_count": 41,
   "id": "6441a701",
   "metadata": {
    "execution": {
     "iopub.execute_input": "2023-03-16T18:42:40.934835Z",
     "iopub.status.busy": "2023-03-16T18:42:40.934418Z",
     "iopub.status.idle": "2023-03-16T18:42:52.498067Z",
     "shell.execute_reply": "2023-03-16T18:42:52.495940Z"
    },
    "papermill": {
     "duration": 11.587989,
     "end_time": "2023-03-16T18:42:52.502325",
     "exception": false,
     "start_time": "2023-03-16T18:42:40.914336",
     "status": "completed"
    },
    "tags": []
   },
   "outputs": [],
   "source": [
    "cat = CatBoostClassifier()\n",
    "scores = cross_validate(cat , X_train, y_train, scoring=\"accuracy\",cv=kf, n_jobs=-1, return_estimator=True)\n",
    "model_cat = scores[\"estimator\"]\n",
    "clear_output()"
   ]
  },
  {
   "cell_type": "code",
   "execution_count": 42,
   "id": "c1b7e1dd",
   "metadata": {
    "execution": {
     "iopub.execute_input": "2023-03-16T18:42:52.553263Z",
     "iopub.status.busy": "2023-03-16T18:42:52.551706Z",
     "iopub.status.idle": "2023-03-16T18:42:52.577424Z",
     "shell.execute_reply": "2023-03-16T18:42:52.575466Z"
    },
    "papermill": {
     "duration": 0.054594,
     "end_time": "2023-03-16T18:42:52.580677",
     "exception": false,
     "start_time": "2023-03-16T18:42:52.526083",
     "status": "completed"
    },
    "tags": []
   },
   "outputs": [
    {
     "name": "stdout",
     "output_type": "stream",
     "text": [
      "CatB Accuracy(train data) = 0.8325\n"
     ]
    }
   ],
   "source": [
    "y_hats = [model.predict(X_test) for model in model_cat]\n",
    "acc = np.mean([accuracy_score(y_test , y_hat) for y_hat in y_hats])\n",
    "print(f'CatB Accuracy(train data) = {acc:.4f}')"
   ]
  },
  {
   "cell_type": "markdown",
   "id": "eb293066",
   "metadata": {
    "papermill": {
     "duration": 0.02596,
     "end_time": "2023-03-16T18:42:52.629604",
     "exception": false,
     "start_time": "2023-03-16T18:42:52.603644",
     "status": "completed"
    },
    "tags": []
   },
   "source": [
    "# As you can see, LGBM has the best result for train data"
   ]
  },
  {
   "cell_type": "markdown",
   "id": "6d93cbdd",
   "metadata": {
    "papermill": {
     "duration": 0.018411,
     "end_time": "2023-03-16T18:42:52.671999",
     "exception": false,
     "start_time": "2023-03-16T18:42:52.653588",
     "status": "completed"
    },
    "tags": []
   },
   "source": [
    "# Prediction for test data and submit the results"
   ]
  },
  {
   "cell_type": "code",
   "execution_count": 43,
   "id": "6449d18e",
   "metadata": {
    "execution": {
     "iopub.execute_input": "2023-03-16T18:42:52.712874Z",
     "iopub.status.busy": "2023-03-16T18:42:52.712404Z",
     "iopub.status.idle": "2023-03-16T18:42:53.830598Z",
     "shell.execute_reply": "2023-03-16T18:42:53.829538Z"
    },
    "papermill": {
     "duration": 1.142741,
     "end_time": "2023-03-16T18:42:53.833338",
     "exception": false,
     "start_time": "2023-03-16T18:42:52.690597",
     "status": "completed"
    },
    "tags": []
   },
   "outputs": [],
   "source": [
    "lgb = LGBMClassifier(random_state=SEED)\n",
    "model_lgb = lgb.fit(X, y)"
   ]
  },
  {
   "cell_type": "code",
   "execution_count": 44,
   "id": "3465666f",
   "metadata": {
    "execution": {
     "iopub.execute_input": "2023-03-16T18:42:53.872745Z",
     "iopub.status.busy": "2023-03-16T18:42:53.871844Z",
     "iopub.status.idle": "2023-03-16T18:42:53.899584Z",
     "shell.execute_reply": "2023-03-16T18:42:53.898445Z"
    },
    "papermill": {
     "duration": 0.050774,
     "end_time": "2023-03-16T18:42:53.902444",
     "exception": false,
     "start_time": "2023-03-16T18:42:53.851670",
     "status": "completed"
    },
    "tags": []
   },
   "outputs": [
    {
     "name": "stdout",
     "output_type": "stream",
     "text": [
      "Your submission was successfully saved!\n"
     ]
    }
   ],
   "source": [
    "gender_submission = pd.read_csv('/kaggle/input/titanic/gender_submission.csv')\n",
    "predictions = model_lgb.predict(X_df_test)\n",
    "\n",
    "output = pd.DataFrame({'PassengerId': gender_submission.PassengerId, 'Survived': predictions})\n",
    "output.to_csv('submission.csv', index=False)\n",
    "print(\"Your submission was successfully saved!\")"
   ]
  },
  {
   "cell_type": "code",
   "execution_count": null,
   "id": "8e3b1501",
   "metadata": {
    "papermill": {
     "duration": 0.017964,
     "end_time": "2023-03-16T18:42:53.939522",
     "exception": false,
     "start_time": "2023-03-16T18:42:53.921558",
     "status": "completed"
    },
    "tags": []
   },
   "outputs": [],
   "source": []
  }
 ],
 "metadata": {
  "kernelspec": {
   "display_name": "Python 3",
   "language": "python",
   "name": "python3"
  },
  "language_info": {
   "codemirror_mode": {
    "name": "ipython",
    "version": 3
   },
   "file_extension": ".py",
   "mimetype": "text/x-python",
   "name": "python",
   "nbconvert_exporter": "python",
   "pygments_lexer": "ipython3",
   "version": "3.7.12"
  },
  "papermill": {
   "default_parameters": {},
   "duration": 90.625152,
   "end_time": "2023-03-16T18:42:55.286251",
   "environment_variables": {},
   "exception": null,
   "input_path": "__notebook__.ipynb",
   "output_path": "__notebook__.ipynb",
   "parameters": {},
   "start_time": "2023-03-16T18:41:24.661099",
   "version": "2.4.0"
  }
 },
 "nbformat": 4,
 "nbformat_minor": 5
}
